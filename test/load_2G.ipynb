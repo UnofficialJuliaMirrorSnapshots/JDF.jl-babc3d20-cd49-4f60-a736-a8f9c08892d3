{
 "cells": [
  {
   "cell_type": "code",
   "execution_count": null,
   "metadata": {},
   "outputs": [],
   "source": [
    "using Revise\n",
    "\n",
    "using JDF\n",
    "\n",
    "using CSV, DataFrames, Blosc\n",
    "\n",
    "# use 12 threads\n",
    "Blosc.set_num_threads(6)\n",
    "\n",
    "@time a = CSV.read(\"C:/data/Performance_All/Performance_2010Q3.txt\", delim = '|', header = false);"
   ]
  },
  {
   "cell_type": "code",
   "execution_count": 2,
   "metadata": {},
   "outputs": [
    {
     "ename": "UndefVarError",
     "evalue": "UndefVarError: a not defined",
     "output_type": "error",
     "traceback": [
      "UndefVarError: a not defined",
      "",
      "Stacktrace:",
      " [1] top-level scope at In[2]:2"
     ]
    }
   ],
   "source": [
    "head(a) = first(a, 10)\n",
    "head(a)"
   ]
  },
  {
   "cell_type": "code",
   "execution_count": null,
   "metadata": {},
   "outputs": [],
   "source": [
    "using TableView\n",
    "showtable(a)"
   ]
  },
  {
   "cell_type": "markdown",
   "metadata": {},
   "source": [
    "## Save column"
   ]
  },
  {
   "cell_type": "code",
   "execution_count": null,
   "metadata": {},
   "outputs": [],
   "source": [
    "@time b = Array(a[!, :Column5])\n",
    "io = iow()\n",
    "@time metadata = compress_then_write(b, io)\n",
    "close(io)"
   ]
  },
  {
   "cell_type": "code",
   "execution_count": null,
   "metadata": {},
   "outputs": [],
   "source": [
    "metadata"
   ]
  },
  {
   "cell_type": "markdown",
   "metadata": {},
   "source": [
    "## Load column"
   ]
  },
  {
   "cell_type": "code",
   "execution_count": null,
   "metadata": {},
   "outputs": [],
   "source": [
    "using JDF\n",
    "using CSV, DataFrames\n",
    "io = ior()\n",
    "@time oo = column_loader(eltype(b), io, metadata)\n",
    "close(io)"
   ]
  },
  {
   "cell_type": "markdown",
   "metadata": {},
   "source": [
    "## Compare results"
   ]
  },
  {
   "cell_type": "code",
   "execution_count": null,
   "metadata": {},
   "outputs": [],
   "source": [
    "all(skipmissing(b) .== skipmissing(oo))"
   ]
  },
  {
   "cell_type": "markdown",
   "metadata": {},
   "source": [
    "## Save a DataFrame"
   ]
  },
  {
   "cell_type": "code",
   "execution_count": null,
   "metadata": {},
   "outputs": [],
   "source": [
    "@time metadatas = savejdf(a, \"c:/data/a.jdf\");\n",
    "using JLSO\n",
    "JLSO.save(\"c:/data/a.metadata.jlso\", metadatas)"
   ]
  },
  {
   "cell_type": "code",
   "execution_count": null,
   "metadata": {},
   "outputs": [],
   "source": [
    "# using JLSO\n",
    "\n",
    "# @time JLSO.save(\"c:/data/a.jlso\", a)"
   ]
  },
  {
   "cell_type": "code",
   "execution_count": null,
   "metadata": {},
   "outputs": [],
   "source": [
    "# using Feather\n",
    "# @time Feather.write(\"c:/data/a.feather\", a)"
   ]
  },
  {
   "cell_type": "code",
   "execution_count": null,
   "metadata": {},
   "outputs": [],
   "source": [
    "# using JLD2\n",
    "# @time JLD2.@save \"c:/data/a.jld2\" a"
   ]
  },
  {
   "cell_type": "code",
   "execution_count": null,
   "metadata": {},
   "outputs": [],
   "source": [
    "# loadfromjld2 = @time JLD2.@load \"c:/data/a.jld2\""
   ]
  },
  {
   "cell_type": "code",
   "execution_count": null,
   "metadata": {},
   "outputs": [],
   "source": [
    "filesize(\"c:/data/a.jdf\")/1024^3"
   ]
  },
  {
   "cell_type": "markdown",
   "metadata": {},
   "source": [
    "## Load a DataFrame"
   ]
  },
  {
   "cell_type": "code",
   "execution_count": 3,
   "metadata": {},
   "outputs": [
    {
     "name": "stderr",
     "output_type": "stream",
     "text": [
      "┌ Info: Precompiling JDF [babc3d20-cd49-4f60-a736-a8f9c08892d3]\n",
      "└ @ Base loading.jl:1264\n"
     ]
    },
    {
     "data": {
      "text/plain": [
       "(names = Symbol[:Column1, :Column2, :Column3, :Column4, :Column5, :Column6, :Column7, :Column8, :Column9, :Column10  …  :Column22, :Column23, :Column24, :Column25, :Column26, :Column27, :Column28, :Column29, :Column30, :Column31], rows = 23954669, metadatas = Any[(len = 8097949, type = Int64), (string_compressed_bytes = 239546690, string_len_bytes = 790966, type = String), (Tmeta = (string_compressed_bytes = 9731855, string_len_bytes = 3536508, type = String), missingmeta = (len = 2486476, type = Bool), type = Union{Missing, String}), (len = 4362428, type = Float64), (Tmeta = (len = 155212867, type = Float64), missingmeta = (len = 3349566, type = Bool), type = Union{Missing, Float64}), (len = 6056606, type = Int64), (len = 5239061, type = Int64), (Tmeta = (len = 13442895, type = Int64), missingmeta = (len = 116523, type = Bool), type = Union{Missing, Int64}), (string_compressed_bytes = 167682683, string_len_bytes = 790966, type = String), (len = 5214798, type = Int64)  …  (Tmeta = (len = 839379, type = Float64), missingmeta = (len = 106524, type = Bool), type = Union{Missing, Float64}), (Tmeta = (len = 851188, type = Float64), missingmeta = (len = 107988, type = Bool), type = Union{Missing, Float64}), (Tmeta = (len = 801957, type = Float64), missingmeta = (len = 101583, type = Bool), type = Union{Missing, Float64}), (Tmeta = (len = 794442, type = Float64), missingmeta = (len = 100629, type = Bool), type = Union{Missing, Float64}), (Tmeta = (len = 819598, type = Float64), missingmeta = (len = 104459, type = Bool), type = Union{Missing, Float64}), (Tmeta = (len = 797638, type = Float64), missingmeta = (len = 116523, type = Bool), type = Union{Missing, Float64}), (Tmeta = (len = 790961, type = Int64), missingmeta = (len = 100189, type = Bool), type = Union{Missing, Int64}), (Tmeta = (string_compressed_bytes = 356259, string_len_bytes = 2250491, type = String), missingmeta = (len = 1559707, type = Bool), type = Union{Missing, String}), (len = 0, type = Missing), (Tmeta = (string_compressed_bytes = 23598410, string_len_bytes = 2250496, type = String), missingmeta = (len = 1559707, type = Bool), type = Union{Missing, String})])"
      ]
     },
     "execution_count": 3,
     "metadata": {},
     "output_type": "execute_result"
    }
   ],
   "source": [
    "using JLSO, JDF\n",
    "metadatas = JLSO.load(\"c:/data/a.metadata.jlso\")[\"data\"]"
   ]
  },
  {
   "cell_type": "code",
   "execution_count": null,
   "metadata": {},
   "outputs": [],
   "source": [
    "@time a2 = loadjdf(\"c:/data/a.jdf\", metadatas);"
   ]
  },
  {
   "cell_type": "markdown",
   "metadata": {},
   "source": [
    "## Compare"
   ]
  },
  {
   "cell_type": "code",
   "execution_count": null,
   "metadata": {},
   "outputs": [],
   "source": [
    "all(names(a) .== names(a2))\n",
    "all(skipmissing([all(a2[!,name] .== Array(a[!,name])) for name in names(a2)]))"
   ]
  },
  {
   "cell_type": "code",
   "execution_count": 2,
   "metadata": {},
   "outputs": [
    {
     "data": {
      "text/plain": [
       "4"
      ]
     },
     "execution_count": 2,
     "metadata": {},
     "output_type": "execute_result"
    }
   ],
   "source": [
    "2+2"
   ]
  },
  {
   "cell_type": "code",
   "execution_count": 5,
   "metadata": {},
   "outputs": [
    {
     "data": {
      "text/plain": [
       "31-element Array{Any,1}:\n",
       " (len = 8097949, type = Int64)                                                                                                                                       \n",
       " (string_compressed_bytes = 239546690, string_len_bytes = 790966, type = String)                                                                                     \n",
       " (Tmeta = (string_compressed_bytes = 9731855, string_len_bytes = 3536508, type = String), missingmeta = (len = 2486476, type = Bool), type = Union{Missing, String}) \n",
       " (len = 4362428, type = Float64)                                                                                                                                     \n",
       " (Tmeta = (len = 155212867, type = Float64), missingmeta = (len = 3349566, type = Bool), type = Union{Missing, Float64})                                             \n",
       " (len = 6056606, type = Int64)                                                                                                                                       \n",
       " (len = 5239061, type = Int64)                                                                                                                                       \n",
       " (Tmeta = (len = 13442895, type = Int64), missingmeta = (len = 116523, type = Bool), type = Union{Missing, Int64})                                                   \n",
       " (string_compressed_bytes = 167682683, string_len_bytes = 790966, type = String)                                                                                     \n",
       " (len = 5214798, type = Int64)                                                                                                                                       \n",
       " (Tmeta = (string_compressed_bytes = 23971621, string_len_bytes = 811040, type = String), missingmeta = (len = 108993, type = Bool), type = Union{Missing, String})  \n",
       " (string_compressed_bytes = 23954669, string_len_bytes = 790966, type = String)                                                                                      \n",
       " (Tmeta = (len = 2252898, type = Int64), missingmeta = (len = 1559707, type = Bool), type = Union{Missing, Int64})                                                   \n",
       " ⋮                                                                                                                                                                   \n",
       " (Tmeta = (len = 806247, type = Float64), missingmeta = (len = 104420, type = Bool), type = Union{Missing, Float64})                                                 \n",
       " (Tmeta = (len = 842250, type = Float64), missingmeta = (len = 106868, type = Bool), type = Union{Missing, Float64})                                                 \n",
       " (Tmeta = (len = 839379, type = Float64), missingmeta = (len = 106524, type = Bool), type = Union{Missing, Float64})                                                 \n",
       " (Tmeta = (len = 851188, type = Float64), missingmeta = (len = 107988, type = Bool), type = Union{Missing, Float64})                                                 \n",
       " (Tmeta = (len = 801957, type = Float64), missingmeta = (len = 101583, type = Bool), type = Union{Missing, Float64})                                                 \n",
       " (Tmeta = (len = 794442, type = Float64), missingmeta = (len = 100629, type = Bool), type = Union{Missing, Float64})                                                 \n",
       " (Tmeta = (len = 819598, type = Float64), missingmeta = (len = 104459, type = Bool), type = Union{Missing, Float64})                                                 \n",
       " (Tmeta = (len = 797638, type = Float64), missingmeta = (len = 116523, type = Bool), type = Union{Missing, Float64})                                                 \n",
       " (Tmeta = (len = 790961, type = Int64), missingmeta = (len = 100189, type = Bool), type = Union{Missing, Int64})                                                     \n",
       " (Tmeta = (string_compressed_bytes = 356259, string_len_bytes = 2250491, type = String), missingmeta = (len = 1559707, type = Bool), type = Union{Missing, String})  \n",
       " (len = 0, type = Missing)                                                                                                                                           \n",
       " (Tmeta = (string_compressed_bytes = 23598410, string_len_bytes = 2250496, type = String), missingmeta = (len = 1559707, type = Bool), type = Union{Missing, String})"
      ]
     },
     "execution_count": 5,
     "metadata": {},
     "output_type": "execute_result"
    }
   ],
   "source": [
    "metadata = metadatas.metadatas"
   ]
  },
  {
   "cell_type": "code",
   "execution_count": 20,
   "metadata": {},
   "outputs": [
    {
     "data": {
      "text/plain": [
       "get_bytes (generic function with 1 method)"
      ]
     },
     "execution_count": 20,
     "metadata": {},
     "output_type": "execute_result"
    }
   ],
   "source": []
  },
  {
   "cell_type": "code",
   "execution_count": 26,
   "metadata": {},
   "outputs": [
    {
     "data": {
      "text/plain": [
       "239546690"
      ]
     },
     "execution_count": 26,
     "metadata": {},
     "output_type": "execute_result"
    }
   ],
   "source": [
    "maximum(get_bytes.(metadata))"
   ]
  },
  {
   "cell_type": "code",
   "execution_count": 23,
   "metadata": {},
   "outputs": [],
   "source": [
    "for (i, m) in enumerate(metadata)\n",
    "    get_bytes(m)\n",
    "end"
   ]
  },
  {
   "cell_type": "code",
   "execution_count": null,
   "metadata": {},
   "outputs": [],
   "source": []
  }
 ],
 "metadata": {
  "kernelspec": {
   "display_name": "Julia 1.3.0-rc1",
   "language": "julia",
   "name": "julia-1.3"
  },
  "language_info": {
   "file_extension": ".jl",
   "mimetype": "application/julia",
   "name": "julia",
   "version": "1.3.0"
  }
 },
 "nbformat": 4,
 "nbformat_minor": 4
}
