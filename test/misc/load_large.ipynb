{
 "cells": [
  {
   "cell_type": "code",
   "execution_count": null,
   "metadata": {},
   "outputs": [],
   "source": [
    "#using Revise\n",
    "using JDF\n",
    "using CSV, DataFrames, Feather\n",
    "\n",
    "@time a = CSV.read(\"c:/data/a.feather\");"
   ]
  },
  {
   "cell_type": "code",
   "execution_count": 4,
   "metadata": {},
   "outputs": [
    {
     "ename": "UndefVarError",
     "evalue": "UndefVarError: a not defined",
     "output_type": "error",
     "traceback": [
      "UndefVarError: a not defined",
      "",
      "Stacktrace:",
      " [1] top-level scope at In[4]:1"
     ]
    }
   ],
   "source": [
    "head(a)"
   ]
  },
  {
   "cell_type": "markdown",
   "metadata": {},
   "source": [
    "Load just one column"
   ]
  },
  {
   "cell_type": "code",
   "execution_count": null,
   "metadata": {},
   "outputs": [],
   "source": [
    "b = Array(a[:Column2])\n",
    "io = iow()\n",
    "metadata = compress_then_write(b, io)\n",
    "using JLSO\n",
    "JLSO.save(\"c:/data/metatmp\", metadata)\n",
    "close(io)\n",
    "\n",
    "\n",
    "using JDF\n",
    "using CSV, DataFrames\n",
    "using JLSO\n",
    "metadata = JLSO.load(\"C:/data/metatmp\")[\"data\"]\n",
    "io = ior()\n",
    "oo = column_loader(String, io, metadata)\n",
    "close(io)\n",
    "\n",
    "a = gf2()\n",
    "a[:WHEELS_OFF] = string.(a[:WHEELS_OFF])\n",
    "\n",
    "@time a = CSV.read(\"c:/data/Performance_All/Performance_2000Q1.txt\", delim = '|', header = false);"
   ]
  },
  {
   "cell_type": "code",
   "execution_count": null,
   "metadata": {},
   "outputs": [],
   "source": [
    "@time metadatas = savejdf(a, \"c:/data/a.jdf\");\n",
    "a = nothing\n",
    "@time a2 = loadjdf(\"c:/data/a.jdf\", metadatas);\n",
    "\n",
    "all(names(a) .== names(a2))\n",
    "all(skipmissing([all(a2[!,name] .== Array(a[!,name])) for name in names(a2)]))\n",
    "\n",
    "2+2"
   ]
  }
 ],
 "metadata": {
  "kernelspec": {
   "display_name": "Julia 1.3.0-rc1",
   "language": "julia",
   "name": "julia-1.3"
  },
  "language_info": {
   "file_extension": ".jl",
   "mimetype": "application/julia",
   "name": "julia",
   "version": "1.3.0"
  }
 },
 "nbformat": 4,
 "nbformat_minor": 4
}
